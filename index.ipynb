{
 "cells": [
  {
   "cell_type": "markdown",
   "metadata": {},
   "source": [
    "# APIs - Cumulative Lab\n",
    "\n",
    "\n",
    "## Introduction \n",
    "\n",
    "We've seen how the Yelp API works and how to create basic visualizations using Folium. It's time to put those skills to work in order to create a working map! Taking things a step further, you'll also independently explore how to perform pagination in order to retrieve a full results set from the Yelp API.\n",
    "\n",
    "## Objectives\n",
    "\n",
    "You will be able to: \n",
    "\n",
    "* Practice using functions to organize your code\n",
    "* Use pagination to retrieve all results from an API query\n",
    "* Practice parsing data returned from an API query\n",
    "* Practice interpreting visualizations of a dataset\n",
    "* Create maps using Folium"
   ]
  },
  {
   "cell_type": "markdown",
   "metadata": {},
   "source": [
    "## Your Task: Query Yelp for All Businesses in a Category and Analyze the Results\n",
    "\n",
    "![restaurant counter with pizza](images/restaurant_counter.jpg)\n",
    "\n",
    "Photo by <a href=\"https://unsplash.com/@jordanmadrid?utm_source=unsplash&utm_medium=referral&utm_content=creditCopyText\">Jordan Madrid</a> on <a href=\"/s/photos/pizza-restaurant?utm_source=unsplash&utm_medium=referral&utm_content=creditCopyText\">Unsplash</a>"
   ]
  },
  {
   "cell_type": "markdown",
   "metadata": {},
   "source": [
    "### Overview\n",
    "\n",
    "You've now worked with some API calls, but we have yet to see how to retrieve a more complete dataset in a programmatic manner. In this lab, you will write a query of businesses on Yelp, then use *pagination* to retrieve all possible results for that query. Then you will create a summary of your findings, including a Folium map of the geographic locations of those businesses.\n",
    "\n",
    "### Technical Details\n",
    "\n",
    "Returning to the Yelp API, the [documentation](https://www.yelp.com/developers/documentation/v3/business_search) also provides us details regarding the **API limits**. These often include details about the number of requests a user is allowed to make within a specified time limit and the maximum number of results to be returned. In this case, we are told that any request has a **maximum of 50 results per request** and defaults to 20. Furthermore, any search will be limited to a **total of 1000 results**. To retrieve all 1000 of these results, we would have to page through the results piece by piece, retrieving 50 at a time. Processes such as these are often referred to as pagination.\n",
    "\n",
    "Also, be mindful of the **API** ***rate*** **limits**. You can only make **5000 requests per day** and are also can make requests too fast. Start prototyping small before running a loop that could be faulty. You can also use `time.sleep(n)` to add delays. For more details see https://www.yelp.com/developers/documentation/v3/rate_limiting.\n",
    "\n",
    "In this lab, you will define a search and then paginate over the results to retrieve all of the results. You'll then parse these responses as a list of dictionaries (for further exploration) and create a map using Folium to visualize the results geographically.\n",
    "\n",
    "### Requirements\n",
    "\n",
    "#### 1. Make the Initial Request\n",
    "\n",
    "Start by filling in your API key to make the initial request to the business search API. Investigate the structure of the response you get back and start figuring out how you will extract the relevant information.\n",
    "\n",
    "#### 2. Add Pagination\n",
    "\n",
    "Using loops and functions, collect the maximum number of results for your query from the API.\n",
    "\n",
    "#### 3. Perform Exploratory Analysis\n",
    "\n",
    "Interpret visualizations related to the price range, average rating, and number of reviews for all query results.\n",
    "\n",
    "#### 4. Create a Folium Map\n",
    "\n",
    "Using latitude and longitude data, plot the query results on an interactive map."
   ]
  },
  {
   "cell_type": "markdown",
   "metadata": {},
   "source": [
    "## 1. Make the Initial Request\n",
    "\n",
    "### Querying\n",
    "\n",
    "Start by making an initial request to the Yelp API. Your search must include at least 2 parameters: **term** and **location**. For example, you might search for pizza restaurants in NYC. The term and location is up to you but make the request below.\n",
    "\n",
    "Use the `requests` library ([documentation here](https://requests.readthedocs.io/en/master/user/quickstart/#make-a-request)).\n",
    "\n",
    "You'll also need an API key from Yelp. If you haven't done this already, go to the Yelp [Manage App page](https://www.yelp.com/developers/v3/manage_app) and create a new app (after making an account if you haven't already)."
   ]
  },
  {
   "cell_type": "code",
   "execution_count": 3,
   "metadata": {},
   "outputs": [],
   "source": [
    "import json\n",
    "\n",
    "\n",
    "def get_keys(path):\n",
    "    with open(path) as f:\n",
    "        return json.load(f)"
   ]
  },
  {
   "cell_type": "code",
   "execution_count": 7,
   "metadata": {},
   "outputs": [
    {
     "data": {
      "text/plain": [
       "<Response [200]>"
      ]
     },
     "execution_count": 7,
     "metadata": {},
     "output_type": "execute_result"
    }
   ],
   "source": [
    "# Replace None with appropriate code\n",
    "\n",
    "# Import the requests library\n",
    "import requests\n",
    "\n",
    "# Get this from the \"Manage App\" page. Make sure you set them\n",
    "# back to None before pushing this to GitHub, since otherwise\n",
    "# your credentials will be compromised\n",
    "keys = get_keys(\"/Users/Karen/.secret/yelp_api.json\")\n",
    "api_key = keys['api_key']\n",
    "\n",
    "\n",
    "# These can be whatever you want! But the solution uses \"pizza\"\n",
    "# and \"New York NY\" if you want to compare your work directly\n",
    "term = \"pizza\"\n",
    "location = \"New York NY\"\n",
    "\n",
    "# Set up params for request\n",
    "url = \"https://api.yelp.com/v3/businesses/search\"\n",
    "headers = {\n",
    "    \"Authorization\": \"Bearer {}\".format(api_key)\n",
    "}\n",
    "url_params = {\n",
    "    \"term\": term.replace(\" \", \"+\"),\n",
    "    \"location\": location.replace(\" \", \"+\")\n",
    "}\n",
    "\n",
    "# Make the request using requests.get, passing in\n",
    "# url, headers=headers, and params=url_params\n",
    "response = requests.get(url, headers = headers, params = url_params)\n",
    "\n",
    "# Confirm we got a 200 response\n",
    "response"
   ]
  },
  {
   "cell_type": "code",
   "execution_count": 8,
   "metadata": {},
   "outputs": [
    {
     "data": {
      "text/plain": [
       "dict_keys(['businesses', 'total', 'region'])"
      ]
     },
     "execution_count": 8,
     "metadata": {},
     "output_type": "execute_result"
    }
   ],
   "source": [
    "# Run this cell without changes\n",
    "\n",
    "# Get the response body in JSON format\n",
    "response_json = response.json()\n",
    "# View the keys\n",
    "response_json.keys()"
   ]
  },
  {
   "cell_type": "markdown",
   "metadata": {},
   "source": [
    "### Extracting Data\n",
    "\n",
    "Now, retrieve the value associated with the `'businesses'` key, and inspect its contents."
   ]
  },
  {
   "cell_type": "code",
   "execution_count": 9,
   "metadata": {},
   "outputs": [
    {
     "data": {
      "text/plain": [
       "[{'id': 'zj8Lq1T8KIC5zwFief15jg',\n",
       "  'alias': 'prince-street-pizza-new-york-2',\n",
       "  'name': 'Prince Street Pizza',\n",
       "  'image_url': 'https://s3-media4.fl.yelpcdn.com/bphoto/HVjttLctuIzKL3LSlsRf-w/o.jpg',\n",
       "  'is_closed': False,\n",
       "  'url': 'https://www.yelp.com/biz/prince-street-pizza-new-york-2?adjust_creative=NoaP0qaeGsejixouQoqKcA&utm_campaign=yelp_api_v3&utm_medium=api_v3_business_search&utm_source=NoaP0qaeGsejixouQoqKcA',\n",
       "  'review_count': 4456,\n",
       "  'categories': [{'alias': 'pizza', 'title': 'Pizza'},\n",
       "   {'alias': 'italian', 'title': 'Italian'}],\n",
       "  'rating': 4.5,\n",
       "  'coordinates': {'latitude': 40.72308755605564,\n",
       "   'longitude': -73.99453001177575},\n",
       "  'transactions': ['pickup', 'delivery'],\n",
       "  'price': '$',\n",
       "  'location': {'address1': '27 Prince St',\n",
       "   'address2': None,\n",
       "   'address3': '',\n",
       "   'city': 'New York',\n",
       "   'zip_code': '10012',\n",
       "   'country': 'US',\n",
       "   'state': 'NY',\n",
       "   'display_address': ['27 Prince St', 'New York, NY 10012']},\n",
       "  'phone': '+12129664100',\n",
       "  'display_phone': '(212) 966-4100',\n",
       "  'distance': 1961.8771417367063},\n",
       " {'id': 'ysqgdbSrezXgVwER2kQWKA',\n",
       "  'alias': 'julianas-brooklyn-3',\n",
       "  'name': \"Juliana's\",\n",
       "  'image_url': 'https://s3-media1.fl.yelpcdn.com/bphoto/OCDZ4nXoaMHF0TraV0u2-g/o.jpg',\n",
       "  'is_closed': False,\n",
       "  'url': 'https://www.yelp.com/biz/julianas-brooklyn-3?adjust_creative=NoaP0qaeGsejixouQoqKcA&utm_campaign=yelp_api_v3&utm_medium=api_v3_business_search&utm_source=NoaP0qaeGsejixouQoqKcA',\n",
       "  'review_count': 2505,\n",
       "  'categories': [{'alias': 'pizza', 'title': 'Pizza'}],\n",
       "  'rating': 4.5,\n",
       "  'coordinates': {'latitude': 40.70274718768062,\n",
       "   'longitude': -73.99343490196397},\n",
       "  'transactions': ['delivery'],\n",
       "  'price': '$$',\n",
       "  'location': {'address1': '19 Old Fulton St',\n",
       "   'address2': '',\n",
       "   'address3': '',\n",
       "   'city': 'Brooklyn',\n",
       "   'zip_code': '11201',\n",
       "   'country': 'US',\n",
       "   'state': 'NY',\n",
       "   'display_address': ['19 Old Fulton St', 'Brooklyn, NY 11201']},\n",
       "  'phone': '+17185966700',\n",
       "  'display_phone': '(718) 596-6700',\n",
       "  'distance': 308.56984360837544}]"
      ]
     },
     "execution_count": 9,
     "metadata": {},
     "output_type": "execute_result"
    }
   ],
   "source": [
    "# Replace None with appropriate code\n",
    "\n",
    "# Retrieve the value from response_json\n",
    "businesses = response_json['businesses']\n",
    "\n",
    "# View the first 2 records\n",
    "businesses[:2]"
   ]
  },
  {
   "cell_type": "markdown",
   "metadata": {},
   "source": [
    "### Preparing Data\n",
    "\n",
    "Write a function `prepare_data` that takes in a list of dictionaries like `businesses` and returns a copy that has been prepared for analysis:\n",
    "\n",
    "1. The `coordinates` key-value pair has been converted into two separate key-value pairs, `latitude` and `longitude`\n",
    "2. All other key-value pairs except for `name`, `review_count`, `rating`, and `price` have been dropped\n",
    "3. All dictionaries missing one of the relevant keys or containing null values have been dropped\n",
    "\n",
    "In other words, the final keys for each dictionary should be `name`, `review_count`, `rating`, `price`, `latitude`, and `longitude`.\n",
    "\n",
    "Complete the function in the cell below:"
   ]
  },
  {
   "cell_type": "code",
   "execution_count": 11,
   "metadata": {},
   "outputs": [
    {
     "data": {
      "text/plain": [
       "[{'name': 'Prince Street Pizza',\n",
       "  'review_count': 4456,\n",
       "  'rating': 4.5,\n",
       "  'price': '$',\n",
       "  'latitude': 40.72308755605564,\n",
       "  'longitude': -73.99453001177575},\n",
       " {'name': \"Juliana's\",\n",
       "  'review_count': 2505,\n",
       "  'rating': 4.5,\n",
       "  'price': '$$',\n",
       "  'latitude': 40.70274718768062,\n",
       "  'longitude': -73.99343490196397},\n",
       " {'name': \"Lombardi's Pizza\",\n",
       "  'review_count': 6377,\n",
       "  'rating': 4.0,\n",
       "  'price': '$$',\n",
       "  'latitude': 40.7215934960083,\n",
       "  'longitude': -73.9955956044561},\n",
       " {'name': 'Lucali',\n",
       "  'review_count': 1837,\n",
       "  'rating': 4.0,\n",
       "  'price': '$$',\n",
       "  'latitude': 40.681840746711224,\n",
       "  'longitude': -74.0003327},\n",
       " {'name': 'Rubirosa',\n",
       "  'review_count': 2746,\n",
       "  'rating': 4.5,\n",
       "  'price': '$$',\n",
       "  'latitude': 40.722766,\n",
       "  'longitude': -73.996233}]"
      ]
     },
     "execution_count": 11,
     "metadata": {},
     "output_type": "execute_result"
    }
   ],
   "source": [
    "# Replace None with appropriate code\n",
    "\n",
    "def prepare_data(data_list):\n",
    "    \"\"\"\n",
    "    This function takes in a list of dictionaries and prepares it\n",
    "    for analysis\n",
    "    \"\"\"\n",
    "    \n",
    "    # Make a new list to hold results\n",
    "    results = []\n",
    "    \n",
    "    for business_data in data_list:\n",
    "    \n",
    "        # Make a new dictionary to hold prepared data for this business\n",
    "        prepared_data = {}\n",
    "        \n",
    "        # Extract name, review_count, rating, and price key-value pairs\n",
    "        # from business_data and add to prepared_data\n",
    "        # If a key is not present in business_data, add it to prepared_data\n",
    "        # with an associated value of None\n",
    "        for i in('name', 'review_count', 'rating', 'price'):\n",
    "            prepared_data[i] = business_data.get(i, None)\n",
    "    \n",
    "        # Parse and add latitude and longitude columns\n",
    "        coordinates = business_data['coordinates']\n",
    "        prepared_data['latitude'] = coordinates['latitude']\n",
    "        prepared_data['longitude'] = coordinates['longitude']\n",
    "        \n",
    "        # Add to list if all values are present\n",
    "        if all(prepared_data.values()):\n",
    "            results.append(prepared_data)\n",
    "    \n",
    "    return results\n",
    "    \n",
    "# Test out function\n",
    "prepared_businesses = prepare_data(businesses)\n",
    "prepared_businesses[:5]"
   ]
  },
  {
   "cell_type": "markdown",
   "metadata": {},
   "source": [
    "Check that your function created the correct keys:"
   ]
  },
  {
   "cell_type": "code",
   "execution_count": 12,
   "metadata": {},
   "outputs": [],
   "source": [
    "# Run this cell without changes\n",
    "\n",
    "assert sorted(list(prepared_businesses[0].keys())) == ['latitude', 'longitude', 'name', 'price', 'rating', 'review_count']"
   ]
  },
  {
   "cell_type": "markdown",
   "metadata": {},
   "source": [
    "The following code will differ depending on your query, but we expect there to be 20 businesses in the original list, and potentially fewer in the prepared list (if any of them were missing data):"
   ]
  },
  {
   "cell_type": "code",
   "execution_count": 13,
   "metadata": {},
   "outputs": [
    {
     "name": "stdout",
     "output_type": "stream",
     "text": [
      "Original: 20\n",
      "Prepared: 17\n"
     ]
    }
   ],
   "source": [
    "# Run this cell without changes\n",
    "print(\"Original:\", len(businesses))\n",
    "print(\"Prepared:\", len(prepared_businesses))"
   ]
  },
  {
   "cell_type": "markdown",
   "metadata": {},
   "source": [
    "Great! We will reuse this function once we have retrieved the full dataset."
   ]
  },
  {
   "cell_type": "markdown",
   "metadata": {},
   "source": [
    "## 2. Add Pagination\n",
    "\n",
    "Now that you are able to extract information from one page of the response, let's figure out how to request as many pages as possible.\n",
    "\n",
    "### Determining the Total\n",
    "\n",
    "Depending on the number of total results for your query, you will either retrieve all of the results, or just the first 1000 (if there are more than 1000 total).\n",
    "\n",
    "We can find the total number of results using the `\"total\"` key:"
   ]
  },
  {
   "cell_type": "code",
   "execution_count": 14,
   "metadata": {},
   "outputs": [
    {
     "data": {
      "text/plain": [
       "12000"
      ]
     },
     "execution_count": 14,
     "metadata": {},
     "output_type": "execute_result"
    }
   ],
   "source": [
    "# Run this cell without changes\n",
    "response_json[\"total\"]"
   ]
  },
  {
   "cell_type": "markdown",
   "metadata": {},
   "source": [
    "(This is specific to the implementation of the Yelp API. Some APIs will just tell you that there are more pages, or will tell you the number of pages total, rather than the total number of results. If you're not sure, always check the documentation.)\n",
    "\n",
    "In the cell below, assign the variable `total` to either the value shown above (if it is less than 1000), or 1000."
   ]
  },
  {
   "cell_type": "code",
   "execution_count": 15,
   "metadata": {},
   "outputs": [],
   "source": [
    "# Replace None with appropriate code\n",
    "total = 1000"
   ]
  },
  {
   "cell_type": "markdown",
   "metadata": {},
   "source": [
    "### Calculating the Offsets\n",
    "\n",
    "The documentation states in the parameters section:\n",
    "\n",
    "> **Name**: `limit`, **Type:** int, **Description:** Optional. Number of business results to return. By default, it will return 20. Maximum is 50.\n",
    "\n",
    "> **Name**: `offset`, **Type:** int, **Description:** Optional. Offset the list of returned business results by this amount.\n",
    "\n",
    "So, to get the most results with the fewest API calls we want to set a limit of 50 every time. If, say, we wanted to get 210 total results, that would mean:\n",
    "\n",
    "1. Offset of `0` (first 50 records)\n",
    "2. Offset of `50` (second 50 records)\n",
    "3. Offset of `100` (third 50 records)\n",
    "4. Offset of `150` (fourth 50 records)\n",
    "5. Offset of `200` (final 10 records)\n",
    "\n",
    "In the cell below, create a function `get_offsets` that takes in a total and returns a list of offsets for that total. You can assume that there is a limit of 50 every time.\n",
    "\n",
    "*Hint: you can use `range` ([documentation here](https://docs.python.org/3.3/library/stdtypes.html?highlight=range#range)) to do this in one line of code. Just make the returned result is a list.*"
   ]
  },
  {
   "cell_type": "code",
   "execution_count": 16,
   "metadata": {},
   "outputs": [],
   "source": [
    "# Replace None with appropriate code\n",
    "def get_offsets(total):\n",
    "    \"\"\"\n",
    "    Get a list of offsets needed to get all pages\n",
    "    of data up until the total\n",
    "    \"\"\"\n",
    "    return list(range(0, total, 50))"
   ]
  },
  {
   "cell_type": "markdown",
   "metadata": {},
   "source": [
    "Check that your function works below:"
   ]
  },
  {
   "cell_type": "code",
   "execution_count": 17,
   "metadata": {},
   "outputs": [],
   "source": [
    "# Run this cell without changes\n",
    "\n",
    "assert get_offsets(200) == [0, 50, 100, 150]\n",
    "assert get_offsets(210) == [0, 50, 100, 150, 200]"
   ]
  },
  {
   "cell_type": "markdown",
   "metadata": {},
   "source": [
    "### Putting It All Together\n",
    "\n",
    "Recall that the following variable has already been declared for you:"
   ]
  },
  {
   "cell_type": "code",
   "execution_count": 18,
   "metadata": {},
   "outputs": [
    {
     "data": {
      "text/plain": [
       "{'term': 'pizza', 'location': 'New+York+NY'}"
      ]
     },
     "execution_count": 18,
     "metadata": {},
     "output_type": "execute_result"
    }
   ],
   "source": [
    "# Run this cell without changes\n",
    "url_params"
   ]
  },
  {
   "cell_type": "markdown",
   "metadata": {},
   "source": [
    "We'll go ahead and also specify that the limit should be 50 every time:"
   ]
  },
  {
   "cell_type": "code",
   "execution_count": 19,
   "metadata": {},
   "outputs": [],
   "source": [
    "# Run this cell without changes\n",
    "url_params[\"limit\"] = 50"
   ]
  },
  {
   "cell_type": "markdown",
   "metadata": {},
   "source": [
    "In order to modify the offset, you'll need to add it to `url_params` with the key `\"offset\"` and whatever value is needed.\n",
    "\n",
    "In the cell below, write code that:\n",
    "\n",
    "* Creates an empty list for the full prepared dataset\n",
    "* Loops over all of the offsets from `get_offsets` and makes an API call each time with the specified offset\n",
    "* Calls `prepare_data` to get a cleaned version of the result of each API call\n",
    "* Extends the full prepared dataset list with each query's prepared dataset"
   ]
  },
  {
   "cell_type": "code",
   "execution_count": 20,
   "metadata": {},
   "outputs": [
    {
     "data": {
      "text/plain": [
       "786"
      ]
     },
     "execution_count": 20,
     "metadata": {},
     "output_type": "execute_result"
    }
   ],
   "source": [
    "# Replace None with appropriate code\n",
    "\n",
    "# Create an empty list for the full prepared dataset\n",
    "full_dataset = []\n",
    "\n",
    "for offset in get_offsets(total):\n",
    "    # Add or update the \"offset\" key-value pair in url_params\n",
    "    url_params['offset'] = offset\n",
    "    \n",
    "    # Make the query and get the response\n",
    "    response = requests.get(url, headers=headers, params=url_params)\n",
    "    \n",
    "    # Get the response body in JSON format\n",
    "    response_json = response.json()\n",
    "    \n",
    "    # Get the list of businesses from the response_json\n",
    "    businesses = response_json['businesses']\n",
    "    \n",
    "    # Call the prepare_data function to get a list of processed data\n",
    "    prepared_businesses = prepare_data(businesses)\n",
    "    \n",
    "    # Extend full_dataset with this list (don't append, or you'll get\n",
    "    # a list of lists instead of a flat list)\n",
    "    full_dataset.extend(prepared_businesses)\n",
    "\n",
    "# Check the length of the full dataset. It will be up to `total`,\n",
    "# potentially less if there were missing values\n",
    "len(full_dataset)"
   ]
  },
  {
   "cell_type": "markdown",
   "metadata": {},
   "source": [
    "This code may take up to a few minutes to run.\n",
    "\n",
    "If you get an error trying to get the response body in JSON format, try adding `time.sleep(1)` right after the `requests.get` line, so your code will sleep for 1 second between each API call."
   ]
  },
  {
   "cell_type": "markdown",
   "metadata": {},
   "source": [
    "## 3. Perform Exploratory Analysis\n",
    "\n",
    "Take the businesses from the previous question and do an initial exploratory analysis. We have provided some plots for you to interpret:"
   ]
  },
  {
   "cell_type": "code",
   "execution_count": 21,
   "metadata": {},
   "outputs": [
    {
     "data": {
      "image/png": "[encoded data removed]",
      "text/plain": [
       "<Figure size 1152x360 with 3 Axes>"
      ]
     },
     "metadata": {
      "needs_background": "light"
     },
     "output_type": "display_data"
    }
   ],
   "source": [
    "# Run this cell without changes\n",
    "from collections import Counter\n",
    "import matplotlib.pyplot as plt\n",
    "%matplotlib inline\n",
    "\n",
    "fig, (ax1, ax2, ax3) = plt.subplots(ncols=3, figsize=(16, 5))\n",
    "\n",
    "# Plot distribution of number of reviews\n",
    "all_review_counts = [x[\"review_count\"] for x in full_dataset]\n",
    "ax1.hist(all_review_counts)\n",
    "ax1.set_title(\"Review Count Distribution\")\n",
    "ax1.set_xlabel(\"Number of Reviews\")\n",
    "ax1.set_ylabel(\"Number of Businesses\")\n",
    "\n",
    "# Plot rating distribution\n",
    "all_ratings = [x[\"rating\"] for x in full_dataset]\n",
    "rating_counter = Counter(all_ratings)\n",
    "rating_keys = sorted(rating_counter.keys())\n",
    "ax2.bar(rating_keys, [rating_counter[key] for key in rating_keys])\n",
    "ax2.set_title(\"Rating Distribution\")\n",
    "ax2.set_xlabel(\"Rating\")\n",
    "ax2.set_ylabel(\"Number of Businesses\")\n",
    "\n",
    "# Plot price distribution\n",
    "all_prices = [x[\"price\"].replace(\"$\", r\"\\$\") for x in full_dataset]\n",
    "price_counter = Counter(all_prices)\n",
    "price_keys = sorted(price_counter.keys())\n",
    "ax3.bar(price_keys, [price_counter[key] for key in price_keys])\n",
    "ax3.set_title(\"Price Distribution\")\n",
    "ax3.set_xlabel(\"Price Category\")\n",
    "ax3.set_ylabel(\"Number of Businesses\");"
   ]
  },
  {
   "cell_type": "markdown",
   "metadata": {},
   "source": [
    "Describe the distributions displayed above and interpret them in the context of your query. (Your answer may differ from the solution branch depending on your query.)"
   ]
  },
  {
   "cell_type": "code",
   "execution_count": 24,
   "metadata": {},
   "outputs": [
    {
     "data": {
      "text/plain": [
       "'\\nIn the review count distribution plot, most businesses have 1000 reviews generally \\nwhile less than 50 businesses have reviews amounting to 6000 and a few having 140000.\\n\\nIn the rating distribution plot, most businesses have a 4.0 rating. The rest have\\na lower rating but not below 2.0.\\n\\nIn the price distribution plot most businesses price category falls between $$ and \\n$. Less than 50 businesses have a price category of $$$ and $$$$.\\n'"
      ]
     },
     "execution_count": 24,
     "metadata": {},
     "output_type": "execute_result"
    }
   ],
   "source": [
    "# Replace None with appropriate text\n",
    "\"\"\"\n",
    "In the review count distribution plot, most businesses have 1000 reviews generally \n",
    "while less than 50 businesses have reviews amounting to 6000 and a few having 140000.\n",
    "\n",
    "In the rating distribution plot, most businesses have a 4.0 rating. The rest have\n",
    "a lower rating but not below 2.0.\n",
    "\n",
    "In the price distribution plot most businesses price category falls between $$ and \n",
    "$. Less than 50 businesses have a price category of $$$ and $$$$.\n",
    "\"\"\""
   ]
  },
  {
   "cell_type": "markdown",
   "metadata": {},
   "source": [
    "In the cell below, we also plot the rating distributions by price. In this setup, a price of one dollar sign is \"lower price\" and everything else is \"higher price\"."
   ]
  },
  {
   "cell_type": "code",
   "execution_count": 22,
   "metadata": {},
   "outputs": [
    {
     "data": {
      "image/png": "[encoded data removed]",
      "text/plain": [
       "<Figure size 432x288 with 1 Axes>"
      ]
     },
     "metadata": {
      "needs_background": "light"
     },
     "output_type": "display_data"
    }
   ],
   "source": [
    "# Run this cell without changes\n",
    "\n",
    "higher_price = []\n",
    "lower_price = []\n",
    "for row in full_dataset:\n",
    "    if row[\"price\"] == \"$\":\n",
    "        lower_price.append(row[\"rating\"])\n",
    "    else:\n",
    "        higher_price.append(row[\"rating\"])\n",
    "        \n",
    "fig, ax = plt.subplots()\n",
    "\n",
    "ax.hist([higher_price, lower_price], label=[\"higher price\", \"lower price\"], density=True)\n",
    "\n",
    "ax.legend();"
   ]
  },
  {
   "cell_type": "markdown",
   "metadata": {},
   "source": [
    "Is a higher price associated with a higher rating? (No need for any additional math/statistics, just interpret what you see in the plot.)"
   ]
  },
  {
   "cell_type": "code",
   "execution_count": 25,
   "metadata": {},
   "outputs": [
    {
     "data": {
      "text/plain": [
       "'\\nYes it is. \\n'"
      ]
     },
     "execution_count": 25,
     "metadata": {},
     "output_type": "execute_result"
    }
   ],
   "source": [
    "# Replace None with appropriate text\n",
    "\"\"\"\n",
    "Yes it is. \n",
    "\"\"\""
   ]
  },
  {
   "cell_type": "markdown",
   "metadata": {},
   "source": [
    "Finally, let's look at ratings vs. review counts:"
   ]
  },
  {
   "cell_type": "code",
   "execution_count": 23,
   "metadata": {},
   "outputs": [
    {
     "data": {
      "image/png": "[encoded data removed]",
      "text/plain": [
       "<Figure size 1152x360 with 1 Axes>"
      ]
     },
     "metadata": {
      "needs_background": "light"
     },
     "output_type": "display_data"
    }
   ],
   "source": [
    "# Run this cell without changes\n",
    "fig, ax = plt.subplots(figsize=(16,5))\n",
    "\n",
    "ax.scatter(all_review_counts, all_ratings, alpha=0.2)\n",
    "ax.set_xlabel(\"Number of Reviews\")\n",
    "ax.set_ylabel(\"Rating\")\n",
    "# \"zoom in\" to a subset of review counts\n",
    "ax.set_xlim(left=0, right=1000);"
   ]
  },
  {
   "cell_type": "markdown",
   "metadata": {},
   "source": [
    "Is a higher number of reviews associated with a higher rating?"
   ]
  },
  {
   "cell_type": "code",
   "execution_count": 26,
   "metadata": {},
   "outputs": [
    {
     "data": {
      "text/plain": [
       "'\\nYes. It would seem that businesses with 1000 reviews have a rating between 3.5 to 4.5 \\nwhich was basically the average rating in the rating distribution plot.\\n'"
      ]
     },
     "execution_count": 26,
     "metadata": {},
     "output_type": "execute_result"
    }
   ],
   "source": [
    "# Replace None with appropriate text\n",
    "\"\"\"\n",
    "Yes. It would seem that businesses with 1000 reviews have a rating between 3.5 to 4.5 \n",
    "which was basically the average rating in the rating distribution plot.\n",
    "\"\"\""
   ]
  },
  {
   "cell_type": "markdown",
   "metadata": {},
   "source": [
    "## 4. Create a Folium Map\n",
    "\n",
    "Make a map using Folium of the businesses you retrieved. Be sure to also add popups to the markers giving some basic information such as name, rating and price.\n",
    "\n",
    "You can center the map around the latitude and longitude of the first item in `full_dataset`."
   ]
  },
  {
   "cell_type": "code",
   "execution_count": 32,
   "metadata": {},
   "outputs": [
    {
     "data": {
      "text/html": [
       "<div style=\"width:100%;\"><div style=\"position:relative;width:100%;height:0;padding-bottom:60%;\"><span style=\"color:#565656\">Make this Notebook Trusted to load map: File -> Trust Notebook</span><iframe src=\"about:blank\" style=\"position:absolute;width:100%;height:100%;left:0;top:0;border:none !important;\" data-html=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 onload=\"this.contentDocument.open();this.contentDocument.write(atob(this.getAttribute('data-html')));this.contentDocument.close();\" allowfullscreen webkitallowfullscreen mozallowfullscreen></iframe></div></div>"
      ],
      "text/plain": [
       "<folium.folium.Map at 0x1ad7e395b20>"
      ]
     },
     "execution_count": 32,
     "metadata": {},
     "output_type": "execute_result"
    }
   ],
   "source": [
    "# Replace None with appropriate code\n",
    "\n",
    "# Import the library\n",
    "import folium\n",
    "\n",
    "# Set up center latitude and longitude\n",
    "center_lat = full_dataset[0]['latitude']\n",
    "center_long = full_dataset[0]['longitude']\n",
    "\n",
    "# Initialize map with center lat and long\n",
    "yelp_map = folium.Map([center_lat, center_long], zoom_start=12)\n",
    "\n",
    "# Adjust this limit to see more or fewer businesses\n",
    "limit=50\n",
    "\n",
    "for business in full_dataset[:limit]:\n",
    "    # Extract information about business\n",
    "    lat = business['latitude']\n",
    "    long = business['longitude']\n",
    "    name = business['name']\n",
    "    rating = business['rating']\n",
    "    price = business['price']\n",
    "    details = \"{}\\nPrice: {} Rating:{}\".format(name,price,rating)\n",
    "    \n",
    "    # Create popup with relevant details\n",
    "    popup = folium.Popup(details)\n",
    "    \n",
    "    # Create marker with relevant lat/long and popup\n",
    "    marker = folium.Marker([lat, long], popup=popup)\n",
    "    \n",
    "    marker.add_to(yelp_map)\n",
    "    \n",
    "yelp_map"
   ]
  },
  {
   "cell_type": "markdown",
   "metadata": {},
   "source": [
    "## Summary\n",
    "\n",
    "Nice work! In this lab, you've made multiple API calls to Yelp in order to paginate through a results set, performing some basic exploratory analysis and then creating a nice interactive map to display the results using Folium! Well done!"
   ]
  },
  {
   "cell_type": "code",
   "execution_count": null,
   "metadata": {},
   "outputs": [],
   "source": []
  }
 ],
 "metadata": {
  "kernelspec": {
   "display_name": "Python 3",
   "language": "python",
   "name": "python3"
  },
  "language_info": {
   "codemirror_mode": {
    "name": "ipython",
    "version": 3
   },
   "file_extension": ".py",
   "mimetype": "text/x-python",
   "name": "python",
   "nbconvert_exporter": "python",
   "pygments_lexer": "ipython3",
   "version": "3.8.5"
  },
  "toc": {
   "base_numbering": 1,
   "nav_menu": {},
   "number_sections": true,
   "sideBar": true,
   "skip_h1_title": false,
   "title_cell": "Table of Contents",
   "title_sidebar": "Contents",
   "toc_cell": false,
   "toc_position": {},
   "toc_section_display": true,
   "toc_window_display": false
  }
 },
 "nbformat": 4,
 "nbformat_minor": 2
}
